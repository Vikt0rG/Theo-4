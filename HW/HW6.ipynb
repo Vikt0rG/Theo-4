{
 "metadata": {
  "kernelspec": {
   "name": "python3",
   "language": "python",
   "display_name": "Python 3 (ipykernel)"
  },
  "language_info": {
   "codemirror_mode": {
    "name": "python",
    "version": 3
   },
   "file_extension": ".py",
   "mimetype": "text/x-python",
   "name": "python",
   "nbconvert_exporter": "python",
   "pygments_lexer": "ipython3",
   "version": "3.8"
  }
 },
 "nbformat_minor": 4,
 "nbformat": 4,
 "cells": [
  {
   "cell_type": "markdown",
   "source": [
    "# Exercise: 4-level system in contact with a heat bath\n",
    "\n",
    "Consider a quantum mechanical system of one single particle in a 4 level system with a Hamiltonian given by:\n",
    "\n",
    "$$ H = \\begin{bmatrix} E_1 & V & 0 & 0 \\\\ V & E_2 & V & 0 \\\\ 0 & V & E_3 & V \\\\ 0 & 0 & V & E_4 \\end{bmatrix} \\tag{Equation 1.}$$\n",
    "\n",
    "where $E_i$ represents the energy levels and $V$ is the non-zero hopping element between adjacent levels. The system is in contact with a heat bath at temperature $T$.\n",
    "\n"
   ],
   "metadata": {}
  },
  {
   "cell_type": "markdown",
   "source": [
    "## Task 1: Calculating eigenvalues, eigenvectors and partition function.\n",
    "\n",
    "</br>\n",
    "The first task is to implement two functions as follows:\n",
    "\n",
    "\n",
    "1. Implement a function to calculate the eigenvalues and eigenvectors of a Hamiltonian matrix.\n",
    "    \n",
    "    - This function must take the Hamiltonian as input, diagonalize it, and return the eigenvalues and the eigenvectors as output.\n",
    "    - **Hint**: np.linalg.eigh\n",
    "\n",
    "</br>\n",
    "\n",
    "2. Implement a function to calculate the partition function $Z$ according to Equation 2 .\n",
    "\n",
    "    - This function must take the Hamiltonian and temperature as inputs, and return the partition function.\n",
    "    - The function will call the previous function to obtain the eigenvalues of the Hamiltonian and use these to calculate the trace.\n",
    "    \n",
    "\n",
    "$$ Z = \\Tr\\left(\\exp\\left(-\\frac{H}{k_B T}\\right)\\right) \\tag{Equation 2.} $$\n",
    "\n",
    "### Note: As you move through the exercise, make use of the functions you already implemented. Example: make use of the diagonalize_hamiltonian function when implementing the partition_function function!\n",
    "\n",
    "\n"
   ],
   "metadata": {
    "collapsed": false
   }
  },
  {
   "cell_type": "code",
   "execution_count": 156,
   "outputs": [],
   "source": [
    "import matplotlib.pyplot as plt\n",
    "from matplotlib.ticker import MultipleLocator\n",
    "import numpy as np\n",
    "import scipy"
   ],
   "metadata": {
    "collapsed": false,
    "ExecuteTime": {
     "end_time": "2023-11-26T00:44:47.483537Z",
     "start_time": "2023-11-26T00:44:47.436182Z"
    }
   }
  },
  {
   "cell_type": "code",
   "execution_count": 157,
   "outputs": [],
   "source": [
    "# Boltzmann constant in eV/K (you can adjust this if your eigenvalues are in a different unit)\n",
    "k_B = 8.617333262145e-5"
   ],
   "metadata": {
    "collapsed": false,
    "ExecuteTime": {
     "end_time": "2023-11-26T00:44:47.499404Z",
     "start_time": "2023-11-26T00:44:47.438723Z"
    }
   }
  },
  {
   "cell_type": "code",
   "execution_count": 158,
   "outputs": [],
   "source": [
    "def diagonalize(hamiltonian):\n",
    "    eigenvalues, eigenvectors = np.linalg.eig(hamiltonian)\n",
    "    return eigenvalues, eigenvectors"
   ],
   "metadata": {
    "collapsed": false,
    "ExecuteTime": {
     "end_time": "2023-11-26T00:44:47.499576Z",
     "start_time": "2023-11-26T00:44:47.443219Z"
    }
   }
  },
  {
   "cell_type": "code",
   "source": [
    "def partition(hamiltonian, t):\n",
    "    Z = np.trace(np.exp(- hamiltonian / (k_B * t)))\n",
    "    return Z"
   ],
   "metadata": {
    "tags": [],
    "trusted": true,
    "ExecuteTime": {
     "end_time": "2023-11-26T00:44:47.499627Z",
     "start_time": "2023-11-26T00:44:47.447745Z"
    }
   },
   "execution_count": 159,
   "outputs": []
  },
  {
   "cell_type": "markdown",
   "source": [
    "## Task 2: Density matrix and thermodynamic quantities.\n",
    "\n",
    "\n",
    "</br>\n",
    "The second task is to implement three functions as follows:\n",
    "\n",
    "\n",
    "\n",
    "1. Implement a function to calculate the density matrix for the system, according to Equation 3, where $E_i$ are the eigenvalues and $\\left| \\psi_i \\right\\rangle$ the eigenvectors.\n",
    "\n",
    "    \n",
    "    - This function must take the Hamiltonian and temperature as inputs, and return the density matrix.\n",
    "    - This function will call the two functions implemented in Task 1 to calculate the eigenvalues, eigenvectors and partition function.\n",
    "    - Do **not** use any python library to exponentiate the Hamiltonian.\n",
    "\n",
    "$$ \\rho = \\frac{1}{Z} e^{-\\frac{H}{k_B T}} = \\frac{1}{Z} \\sum_{i} e^{-\\frac{E_i}{k_B T}} \\left| \\psi_i \\right\\rangle \\left\\langle \\psi_i \\right| \\tag{Equation 3.}$$\n",
    "\n",
    "\n",
    "2. Implement a function to calculate the energy for the system, according to Equation 4.\n",
    "\n",
    "    - This function must take the Hamiltonian as an input, and output the energy.\n",
    "\n",
    "$$ E = \\Tr(H \\cdot \\rho)  \\tag{Equation 4.}$$\n",
    "\n",
    "\n",
    "3. Implement a function to calculate the entropy for the system, according to Equation 5.\n",
    "\n",
    "    \n",
    "    - This function must take the Hamiltonian as an input, and output the entropy.\n",
    "    - **Hint:** scipy.linalg.logm\n",
    "\n",
    "\n",
    "$$ S = -k_B  \\Tr(\\rho \\ln(\\rho))  \\tag{Equation 5.}$$\n",
    "\n",
    "\n",
    "\n",
    "\n",
    "\n",
    "4. Implement a function to calculate the specific heat for the system, according to Equation 6.\n",
    "    - This function must take the Hamiltonian and temperature as inputs, and return the specific heat.\n",
    "    - **Hint:** scipy.linalg.expm\n",
    "\n",
    "$$ C_v = \\frac{1}{{k_B T^2}} \\text{Tr}\\left(H^2 \\cdot \\exp\\left(-\\frac{H}{{k_B T}}\\right)\\right)\\tag{Equation 6.}$$\n",
    "\n"
   ],
   "metadata": {}
  },
  {
   "cell_type": "code",
   "execution_count": 160,
   "outputs": [],
   "source": [
    "def density_matrix(hamiltonian, t):\n",
    "    sum_ = 0\n",
    "    for idx, num in enumerate(hamiltonian[0]):\n",
    "        sum_ += np.exp(-diagonalize(hamiltonian)[0][idx] / (k_B * t)) * np.atleast_2d(diagonalize(hamiltonian)[1][:, idx]).T * np.atleast_2d(diagonalize(hamiltonian)[1][:, idx])\n",
    "    return 1 / partition(hamiltonian, t) * sum_"
   ],
   "metadata": {
    "collapsed": false,
    "ExecuteTime": {
     "end_time": "2023-11-26T00:44:47.501044Z",
     "start_time": "2023-11-26T00:44:47.454378Z"
    }
   }
  },
  {
   "cell_type": "code",
   "execution_count": 161,
   "outputs": [],
   "source": [
    "def calculate_energy(hamiltonian, t):\n",
    "    energy = np.trace(hamiltonian * density_matrix(hamiltonian, t))\n",
    "    return energy"
   ],
   "metadata": {
    "collapsed": false,
    "ExecuteTime": {
     "end_time": "2023-11-26T00:44:47.501113Z",
     "start_time": "2023-11-26T00:44:47.458640Z"
    }
   }
  },
  {
   "cell_type": "code",
   "execution_count": 162,
   "outputs": [],
   "source": [
    "def calculate_entropy(hamiltonian, t):\n",
    "    entropy = - k_B * np.trace(density_matrix(hamiltonian, t) * scipy.linalg.logm(density_matrix(hamiltonian, t)))\n",
    "    return entropy"
   ],
   "metadata": {
    "collapsed": false,
    "ExecuteTime": {
     "end_time": "2023-11-26T00:44:47.501277Z",
     "start_time": "2023-11-26T00:44:47.464494Z"
    }
   }
  },
  {
   "cell_type": "code",
   "source": [
    "def heat(hamiltonian, t):\n",
    "    specific_heat = 1 / (k_B * t ** 2) * np.trace(scipy.linalg.expm(hamiltonian) * scipy.linalg.logm(-hamiltonian / (k_B * t)))\n",
    "    return specific_heat"
   ],
   "metadata": {
    "trusted": true,
    "ExecuteTime": {
     "end_time": "2023-11-26T00:44:47.501312Z",
     "start_time": "2023-11-26T00:44:47.467718Z"
    }
   },
   "execution_count": 163,
   "outputs": []
  },
  {
   "cell_type": "markdown",
   "source": [
    "## Task 3: Plotting\n",
    "\n",
    "\n",
    "</br>\n",
    "The third task is to generate two plots as follows:\n",
    "\n",
    "\n",
    "\n",
    "1. Plot the specific heat $C_v$ as a function of temperature (for $0K \\lt T \\lt 40000K$) for the following hamiltonian:\n",
    "\n",
    "$$ H = \\begin{bmatrix} 1 & 0.1 & 0 & 0 \\\\ 0.1 & 1.1 & 0.1 & 0 \\\\ 0 & 0.1 & 1.15 & 0.1 \\\\ 0 & 0 & 0.1 & 1.16 \\end{bmatrix} $$\n",
    "\n",
    "\n",
    "2. Plot the eigenvalues of the density matrix $\\rho$ as a function of temperature (for $0K \\lt T \\lt 10000K$) for the same hamiltonian.\n",
    "\n",
    "\n",
    "\n"
   ],
   "metadata": {}
  },
  {
   "cell_type": "code",
   "execution_count": 164,
   "outputs": [],
   "source": [
    "E1 = 1\n",
    "E2 = 1.1\n",
    "E3 = 1.15\n",
    "E4 = 1.16\n",
    "V = 0.1\n",
    "hamiltonian = np.array([[E1, V, 0, 0],\n",
    "                        [V, E2, V, 0],\n",
    "                        [0, V, E3, V],\n",
    "                        [0, 0, V, E4]])\n",
    "\n",
    "t = np.arange(3e3, 4e4, 1e3)"
   ],
   "metadata": {
    "collapsed": false,
    "ExecuteTime": {
     "end_time": "2023-11-26T00:44:47.501369Z",
     "start_time": "2023-11-26T00:44:47.473832Z"
    }
   }
  },
  {
   "cell_type": "code",
   "execution_count": 165,
   "outputs": [
    {
     "data": {
      "text/plain": "Text(0.5, 0, 'Temperature in K')"
     },
     "execution_count": 165,
     "metadata": {},
     "output_type": "execute_result"
    },
    {
     "data": {
      "text/plain": "<Figure size 1200x800 with 1 Axes>",
      "image/png": "[encoded data removed]"
     },
     "metadata": {},
     "output_type": "display_data"
    }
   ],
   "source": [
    "fig, ax = plt.subplots(tight_layout=True, figsize=(12, 8))\n",
    "y = ([], [], [], [])\n",
    "for n in t: \n",
    "    for idx, num in enumerate(hamiltonian[0]):\n",
    "        y[idx].append(np.linalg.eig(density_matrix(hamiltonian, n))[0][idx])\n",
    "        \n",
    "ax.scatter(t, y[0])\n",
    "ax.scatter(t, y[1])\n",
    "ax.scatter(t, y[2])\n",
    "ax.scatter(t, y[3])\n",
    "\n",
    "ax.xaxis.set_major_locator(MultipleLocator(1e4))\n",
    "ax.xaxis.set_minor_locator(MultipleLocator(2.5e3))\n",
    "ax.yaxis.set_major_locator(MultipleLocator(0.05))\n",
    "ax.tick_params(direction='in', which='both', width=1)\n",
    "ax.tick_params(which='major', length=7)\n",
    "ax.tick_params(which='minor', length=4)\n",
    "\n",
    "ax.set_xlabel(\"Temperature in K\")"
   ],
   "metadata": {
    "collapsed": false,
    "ExecuteTime": {
     "end_time": "2023-11-26T00:44:47.919781Z",
     "start_time": "2023-11-26T00:44:47.504698Z"
    }
   }
  },
  {
   "cell_type": "markdown",
   "source": [
    "# Grading block for Tasks 1 and 2: Use the following cells to test your code\n"
   ],
   "metadata": {}
  },
  {
   "cell_type": "code",
   "source": [
    "# For the following Hamiltonian:\n",
    "E1=1e-1\n",
    "E2=1.1e-1\n",
    "E3=1.15e-1\n",
    "E4=1.16e-1\n",
    "V=0.01\n",
    "T=300\n",
    "hamiltonian_example = np.array([[E1, V, 0, 0],\n",
    "                                [V, E2, V, 0],\n",
    "                                [0, V, E3, V],\n",
    "                                [0, 0, V, E4]], dtype=float)"
   ],
   "metadata": {
    "trusted": true,
    "ExecuteTime": {
     "end_time": "2023-11-26T00:44:47.925747Z",
     "start_time": "2023-11-26T00:44:47.921552Z"
    }
   },
   "execution_count": 166,
   "outputs": []
  },
  {
   "cell_type": "code",
   "source": [
    "eigen_values, eigen_vectors = diagonalize(hamiltonian_example)\n",
    "Z = partition(hamiltonian_example, T)\n",
    "rho = density_matrix(hamiltonian_example, T)\n",
    "E = calculate_energy(hamiltonian_example, T)\n",
    "S = calculate_entropy(hamiltonian_example, T)\n",
    "C_v = heat(hamiltonian_example, T)\n",
    "\n",
    "\n",
    "print(f\"Eigenvalues: {eigen_values}\")\n",
    "print(f\"Eigenvectors: \\n {eigen_vectors}\")\n",
    "print(f\"Density matrix: \\n {rho}\")\n",
    "print(f\"Energy: {E}\")\n",
    "print(f\"Entropy: {S}\")\n",
    "print(f\"Specific heat: {C_v}\")"
   ],
   "metadata": {
    "trusted": true,
    "ExecuteTime": {
     "end_time": "2023-11-26T00:44:48.071968Z",
     "start_time": "2023-11-26T00:44:47.941042Z"
    }
   },
   "execution_count": 167,
   "outputs": [
    {
     "name": "stdout",
     "output_type": "stream",
     "text": [
      "Eigenvalues: [0.09206543 0.10377018 0.11610464 0.12905975]\n",
      "Eigenvectors: \n",
      " [[ 0.73725659  0.5208189  -0.40182112  0.15407851]\n",
      " [-0.58498112  0.19635809 -0.64711827  0.4477483 ]\n",
      " [ 0.31188167 -0.64314646  0.006779    0.69931859]\n",
      " [-0.13030596  0.52588382  0.6478671   0.53547622]]\n",
      "Density matrix: \n",
      " [[ 0.38435975 -0.12094934  0.02037175 -0.00240333]\n",
      " [-0.12094934  0.28378216 -0.09279504  0.01652643]\n",
      " [ 0.02037175 -0.09279504  0.23353932 -0.08047586]\n",
      " [-0.00240333  0.01652643 -0.08047586  0.2089653 ]]\n",
      "Energy: 0.1207490095108675\n",
      "Entropy: 0.0001300526007393749\n",
      "Specific heat: (0.8309719691012506+1.8093256514947915j)\n"
     ]
    }
   ]
  },
  {
   "cell_type": "markdown",
   "source": [
    "# You should obtain the following values:"
   ],
   "metadata": {}
  },
  {
   "cell_type": "code",
   "execution_count": 168,
   "outputs": [
    {
     "data": {
      "text/plain": "'\\nEigenvalues: [0.09206543 0.10377018 0.11610464 0.12905975]\\nEigenvectors: \\n [[ 0.73725659  0.5208189  -0.40182112  0.15407851]\\n [-0.58498112  0.19635809 -0.64711827  0.4477483 ]\\n [ 0.31188167 -0.64314646  0.006779    0.69931859]\\n [-0.13030596  0.52588382  0.6478671   0.53547622]]\\nDensity matrix: \\n [[ 0.34606847 -0.10889994  0.01834224 -0.0021639 ]\\n [-0.10889994  0.25551078 -0.08355047  0.01488001]\\n [ 0.01834224 -0.08355047  0.21027331 -0.07245857]\\n [-0.0021639   0.01488001 -0.07245857  0.18814744]]\\nEnergy: 0.10342138697804787\\nEntropy: 0.00010847893113505411\\nSpecific heat: 9.018269718333504e-05\\n'"
     },
     "execution_count": 168,
     "metadata": {},
     "output_type": "execute_result"
    }
   ],
   "source": [
    "'''\n",
    "Eigenvalues: [0.09206543 0.10377018 0.11610464 0.12905975]\n",
    "Eigenvectors: \n",
    " [[ 0.73725659  0.5208189  -0.40182112  0.15407851]\n",
    " [-0.58498112  0.19635809 -0.64711827  0.4477483 ]\n",
    " [ 0.31188167 -0.64314646  0.006779    0.69931859]\n",
    " [-0.13030596  0.52588382  0.6478671   0.53547622]]\n",
    "Density matrix: \n",
    " [[ 0.34606847 -0.10889994  0.01834224 -0.0021639 ]\n",
    " [-0.10889994  0.25551078 -0.08355047  0.01488001]\n",
    " [ 0.01834224 -0.08355047  0.21027331 -0.07245857]\n",
    " [-0.0021639   0.01488001 -0.07245857  0.18814744]]\n",
    "Energy: 0.10342138697804787\n",
    "Entropy: 0.00010847893113505411\n",
    "Specific heat: 9.018269718333504e-05\n",
    "'''"
   ],
   "metadata": {
    "collapsed": false,
    "ExecuteTime": {
     "end_time": "2023-11-26T00:44:48.072315Z",
     "start_time": "2023-11-26T00:44:47.991064Z"
    }
   }
  }
 ]
}
